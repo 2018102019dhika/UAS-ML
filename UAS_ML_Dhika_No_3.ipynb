{
  "nbformat": 4,
  "nbformat_minor": 0,
  "metadata": {
    "colab": {
      "name": "UAS_ML_Dhika_No.3.ipynb",
      "provenance": [],
      "collapsed_sections": []
    },
    "kernelspec": {
      "name": "python3",
      "display_name": "Python 3"
    }
  },
  "cells": [
    {
      "cell_type": "markdown",
      "source": [
        "Soal Nomer 1"
      ],
      "metadata": {
        "id": "2ry2k9lTigy4"
      }
    },
    {
      "cell_type": "code",
      "metadata": {
        "id": "8g94keLgISIm"
      },
      "source": [
        "jeniskelamin =['laki','laki', 'perempuan', 'perempuan', 'laki', 'laki', 'perempuan', 'perempuan', 'laki', 'perempuan']\n",
        "biaya =['murah', 'murah', 'murah','murah','murah', 'standar', 'standar', 'mahal', 'mahal', 'mahal']\n",
        "incomelevel =['rendah',  'sedang', 'sedang', 'rendah','sedang', 'sedang', 'sedang', 'tinggi', 'sedang', 'tinggi']\n",
        "modeltrans =['bus',  'bus', 'kereta', 'bus','bus', 'kereta', 'kereta', 'mobil', 'mobil', 'mobil']\n",
        "\n",
        "tujuan =['No', 'Yes','Yes','No', 'Yes', 'No', 'Yes', 'Yes', 'No', 'No']"
      ],
      "execution_count": 1,
      "outputs": []
    },
    {
      "cell_type": "code",
      "metadata": {
        "colab": {
          "base_uri": "https://localhost:8080/"
        },
        "id": "AfTQ4TVhIhQC",
        "outputId": "cf800d2a-1b2f-4e40-8a1b-e848441fdf36"
      },
      "source": [
        "#Import Label Encoder\n",
        "from sklearn import preprocessing\n",
        "\n",
        "#Creating label Encoder\n",
        "le = preprocessing.LabelEncoder()\n",
        "\n",
        "#Convert label string ke number\n",
        "jeniskelamin_encoded=le.fit_transform(jeniskelamin)\n",
        "print (jeniskelamin_encoded)"
      ],
      "execution_count": 2,
      "outputs": [
        {
          "output_type": "stream",
          "name": "stdout",
          "text": [
            "[0 0 1 1 0 0 1 1 0 1]\n"
          ]
        }
      ]
    },
    {
      "cell_type": "code",
      "metadata": {
        "colab": {
          "base_uri": "https://localhost:8080/"
        },
        "id": "_E6h5B6EIpI5",
        "outputId": "21b5204d-1341-4206-9e55-3d28da4dc43f"
      },
      "source": [
        "#Import LabelEncoder\n",
        "from sklearn import preprocessing\n",
        "\n",
        "#creating labelEncoder\n",
        "label = preprocessing.LabelEncoder()\n",
        "\n",
        "#Convert label string ke numbers\n",
        "biaya_encoded=label.fit_transform(biaya)\n",
        "print (biaya_encoded) \n",
        "\n",
        "incomelevel_encoded=label.fit_transform(incomelevel)\n",
        "print (incomelevel_encoded)\n",
        "\n",
        "modeltrans_encoded=label.fit_transform(modeltrans)\n",
        "print (modeltrans_encoded)\n",
        "\n",
        "tujuan_encoded=label.fit_transform(tujuan)\n",
        "print (tujuan_encoded)"
      ],
      "execution_count": 3,
      "outputs": [
        {
          "output_type": "stream",
          "name": "stdout",
          "text": [
            "[1 1 1 1 1 2 2 0 0 0]\n",
            "[0 1 1 0 1 1 1 2 1 2]\n",
            "[0 0 1 0 0 1 1 2 2 2]\n",
            "[0 1 1 0 1 0 1 1 0 0]\n"
          ]
        }
      ]
    },
    {
      "cell_type": "code",
      "metadata": {
        "colab": {
          "base_uri": "https://localhost:8080/"
        },
        "id": "Q-DAwE8NIvOc",
        "outputId": "3d4b639b-2d3e-4851-cd0c-04a88c63e455"
      },
      "source": [
        "print (\"jeniskelamin            :\",jeniskelamin_encoded)\n",
        "print (\"biaya                   :\",biaya_encoded)\n",
        "print (\"incomelevel             :\",incomelevel_encoded)\n",
        "print (\"modeltrans              :\",modeltrans_encoded)\n",
        "print (\"tujuan                  :\",tujuan_encoded)"
      ],
      "execution_count": 4,
      "outputs": [
        {
          "output_type": "stream",
          "name": "stdout",
          "text": [
            "jeniskelamin            : [0 0 1 1 0 0 1 1 0 1]\n",
            "biaya                   : [1 1 1 1 1 2 2 0 0 0]\n",
            "incomelevel             : [0 1 1 0 1 1 1 2 1 2]\n",
            "modeltrans              : [0 0 1 0 0 1 1 2 2 2]\n",
            "tujuan                  : [0 1 1 0 1 0 1 1 0 0]\n"
          ]
        }
      ]
    },
    {
      "cell_type": "code",
      "metadata": {
        "colab": {
          "base_uri": "https://localhost:8080/"
        },
        "id": "Pu9AGfDMIz08",
        "outputId": "a54d8516-8e86-4692-e714-36c48944314e"
      },
      "source": [
        "#Combining fitur-fitur yang ada\n",
        "features=zip(jeniskelamin_encoded,biaya_encoded,incomelevel_encoded,modeltrans_encoded)\n",
        "features=list(features)\n",
        "print (tuple(features))"
      ],
      "execution_count": 5,
      "outputs": [
        {
          "output_type": "stream",
          "name": "stdout",
          "text": [
            "((0, 1, 0, 0), (0, 1, 1, 0), (1, 1, 1, 1), (1, 1, 0, 0), (0, 1, 1, 0), (0, 2, 1, 1), (1, 2, 1, 1), (1, 0, 2, 2), (0, 0, 1, 2), (1, 0, 2, 2))\n"
          ]
        }
      ]
    },
    {
      "cell_type": "code",
      "metadata": {
        "colab": {
          "base_uri": "https://localhost:8080/"
        },
        "id": "acjzMGKdI3Ts",
        "outputId": "549e165e-1688-4785-ecc8-f017503b86fa"
      },
      "source": [
        "#Import Gaussian Naive Bayes model\n",
        "from sklearn.naive_bayes import GaussianNB\n",
        "\n",
        "#Panggil Gaussian Classifier\n",
        "model = GaussianNB()\n",
        "\n",
        "#Train model untuk data training\n",
        "model.fit(features,tujuan)\n",
        "#Model.fit(features,label.reshape(-1,1))\n",
        "\n",
        "#Peridiction Output\n",
        "predicted = model.predict([[1,2,0,0]]) #1 : perempuan, 1: biaya, 2: incomelevel , 0 : modeltrans, 0 :\n",
        "print (\"Hasil Perdiksi:\", predicted)"
      ],
      "execution_count": 6,
      "outputs": [
        {
          "output_type": "stream",
          "name": "stdout",
          "text": [
            "Hasil Perdiksi: ['No']\n"
          ]
        }
      ]
    }
  ]
}